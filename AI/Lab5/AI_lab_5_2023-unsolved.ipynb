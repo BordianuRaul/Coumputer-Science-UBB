{
 "cells": [
  {
   "cell_type": "markdown",
   "id": "b8210b19",
   "metadata": {},
   "source": [
    "## A.I. Assignment 5\n",
    "\n",
    "## Learning Goals\n",
    "\n",
    "By the end of this lab, you should be able to:\n",
    "* Get more familiar with tensors in pytorch \n",
    "* Create a simple multilayer perceptron model with pytorch\n",
    "* Visualise the parameters\n",
    "\n",
    "\n",
    "### Task\n",
    "\n",
    "Build a fully connected feed forward network that adds two bits. Determine the a propper achitecture for this network (what database you use for this problem? how many layers? how many neurons on each layer? what is the activation function? what is the loss function? etc)\n",
    "\n",
    "Create at least 3 such networks and compare their performance (how accurate they are?, how farst they are trained to get at 1 accuracy?)\n",
    "\n",
    "Display for the best one the weights for each layer.\n"
   ]
  },
  {
   "cell_type": "code",
   "execution_count": 10,
   "id": "e3614e5f",
   "metadata": {},
   "outputs": [],
   "source": [
    "import torch\n",
    "import torch.nn as nn\n",
    "import torch.optim as optim\n",
    "from collections import OrderedDict"
   ]
  },
  {
   "cell_type": "code",
   "execution_count": 33,
   "id": "5ee7e7d7",
   "metadata": {
    "scrolled": true
   },
   "outputs": [],
   "source": [
    "# Define models\n",
    "model1 = nn.Sequential(OrderedDict([\n",
    "    ('hidden', nn.Linear(2, 4)),\n",
    "    ('activation', nn.Sigmoid()),\n",
    "    ('output', nn.Linear(4, 2)),\n",
    "    ('sigmoid', nn.Sigmoid())\n",
    "]))\n",
    "model2 = nn.Sequential(OrderedDict([\n",
    "    ('hidden', nn.Linear(2, 8)),\n",
    "    ('activation', nn.ReLU()),\n",
    "    ('output', nn.Linear(8, 2)),\n",
    "    ('softmax', nn.Softmax(dim=1))\n",
    "]))\n",
    "\n",
    "model3 = nn.Sequential(OrderedDict([\n",
    "    ('fct1', nn.Linear(2, 16)),\n",
    "    ('relu1', nn.ReLU()),\n",
    "    ('fct2', nn.Linear(16, 8)),\n",
    "    ('relu2', nn.ReLU()),\n",
    "    ('fct3', nn.Linear(8, 4)),\n",
    "    ('relu3', nn.ReLU()),\n",
    "    ('fct4', nn.Linear(4, 2)),\n",
    "    ('softmax', nn.Softmax(dim=1))\n",
    "]))"
   ]
  },
  {
   "cell_type": "code",
   "execution_count": 8,
   "id": "665ae958",
   "metadata": {},
   "outputs": [
    {
     "name": "stdout",
     "output_type": "stream",
     "text": [
      "Sequential(\n",
      "  (hidden): Linear(in_features=2, out_features=4, bias=True)\n",
      "  (activation): Sigmoid()\n",
      "  (output): Linear(in_features=4, out_features=1, bias=True)\n",
      "  (sigmoid): Sigmoid()\n",
      ")\n",
      "Sequential(\n",
      "  (hidden): Linear(in_features=2, out_features=8, bias=True)\n",
      "  (activation): ReLU()\n",
      "  (output): Linear(in_features=8, out_features=1, bias=True)\n",
      "  (softmax): Softmax(dim=1)\n",
      ")\n",
      "Sequential(\n",
      "  (fct1): Linear(in_features=2, out_features=16, bias=True)\n",
      "  (relu1): ReLU()\n",
      "  (fct2): Linear(in_features=16, out_features=8, bias=True)\n",
      "  (relu2): ReLU()\n",
      "  (fct3): Linear(in_features=8, out_features=4, bias=True)\n",
      "  (relu3): ReLU()\n",
      "  (fct4): Linear(in_features=4, out_features=1, bias=True)\n",
      "  (softmax): Softmax(dim=1)\n",
      ")\n"
     ]
    }
   ],
   "source": [
    "print(model1)\n",
    "print(model2)\n",
    "print(model3)"
   ]
  },
  {
   "cell_type": "code",
   "execution_count": 26,
   "id": "e26f0d3e",
   "metadata": {},
   "outputs": [
    {
     "name": "stdout",
     "output_type": "stream",
     "text": [
      "tensor([[0., 0.],\n",
      "        [0., 1.],\n",
      "        [1., 0.],\n",
      "        [1., 1.]])\n"
     ]
    }
   ],
   "source": [
    "data_in = torch.tensor([[0, 0], [0, 1], [1, 0], [1, 1]], dtype=torch.float32)\n",
    "print(data_in)\n"
   ]
  },
  {
   "cell_type": "code",
   "execution_count": 27,
   "id": "4fb16bbc",
   "metadata": {},
   "outputs": [
    {
     "name": "stdout",
     "output_type": "stream",
     "text": [
      "tensor([[0., 0.],\n",
      "        [0., 1.],\n",
      "        [0., 1.],\n",
      "        [1., 0.]])\n"
     ]
    }
   ],
   "source": [
    "data_target = torch.tensor([[0,0], [0,1], [0,1], [1,0]], dtype=torch.float32)\n",
    "\n",
    "print(data_target)"
   ]
  },
  {
   "cell_type": "code",
   "execution_count": 28,
   "id": "69d920ed",
   "metadata": {},
   "outputs": [],
   "source": [
    "\n",
    "criterion = nn.BCEWithLogitsLoss()\n",
    "\n",
    "\n",
    "optimizer1 = optim.SGD(model1.parameters(), lr=0.1)\n",
    "optimizer2 = optim.SGD(model2.parameters(), lr=0.1)\n",
    "optimizer3 = optim.SGD(model3.parameters(), lr=0.1)"
   ]
  },
  {
   "cell_type": "code",
   "execution_count": 37,
   "id": "cde91f6f",
   "metadata": {},
   "outputs": [
    {
     "name": "stdout",
     "output_type": "stream",
     "text": [
      "1st model:\n",
      "Epoch [100/1000], Loss: 0.7641\n",
      "Epoch [200/1000], Loss: 0.7641\n",
      "Epoch [300/1000], Loss: 0.7641\n",
      "Epoch [400/1000], Loss: 0.7641\n",
      "Epoch [500/1000], Loss: 0.7641\n",
      "Epoch [600/1000], Loss: 0.7641\n",
      "Epoch [700/1000], Loss: 0.7641\n",
      "Epoch [800/1000], Loss: 0.7641\n",
      "Epoch [900/1000], Loss: 0.7641\n",
      "Epoch [1000/1000], Loss: 0.7641\n",
      "\n",
      "2nd model:\n",
      "Epoch [100/1000], Loss: 0.7845\n",
      "Epoch [200/1000], Loss: 0.7845\n",
      "Epoch [300/1000], Loss: 0.7845\n",
      "Epoch [400/1000], Loss: 0.7845\n",
      "Epoch [500/1000], Loss: 0.7845\n",
      "Epoch [600/1000], Loss: 0.7845\n",
      "Epoch [700/1000], Loss: 0.7845\n",
      "Epoch [800/1000], Loss: 0.7845\n",
      "Epoch [900/1000], Loss: 0.7845\n",
      "Epoch [1000/1000], Loss: 0.7845\n",
      "\n",
      "3rd model:\n",
      "Epoch [100/1000], Loss: 0.7967\n",
      "Epoch [200/1000], Loss: 0.7967\n",
      "Epoch [300/1000], Loss: 0.7967\n",
      "Epoch [400/1000], Loss: 0.7967\n",
      "Epoch [500/1000], Loss: 0.7967\n",
      "Epoch [600/1000], Loss: 0.7967\n",
      "Epoch [700/1000], Loss: 0.7967\n",
      "Epoch [800/1000], Loss: 0.7967\n",
      "Epoch [900/1000], Loss: 0.7967\n",
      "Epoch [1000/1000], Loss: 0.7967\n"
     ]
    }
   ],
   "source": [
    "\n",
    "num_epochs = 1000\n",
    "\n",
    "# First model\n",
    "print(\"1st model:\")\n",
    "for epoch in range(num_epochs):\n",
    "    # Forward pass\n",
    "    outputs_pred = model1(data_in)\n",
    "    loss = criterion(outputs_pred, data_target)\n",
    "    \n",
    "    # Backward and optimize\n",
    "    optimizer1.zero_grad()\n",
    "    loss.backward()\n",
    "    optimizer1.step()\n",
    "    \n",
    "    # Print training progress\n",
    "    if (epoch+1) % 100 == 0:\n",
    "        print(f'Epoch [{epoch+1}/{num_epochs}], Loss: {loss.item():.4f}')\n",
    "\n",
    "# Second model\n",
    "print(\"\\n2nd model:\")\n",
    "for epoch in range(num_epochs):\n",
    "    # Forward pass\n",
    "    outputs_pred = model2(data_in)\n",
    "    loss = criterion(outputs_pred, data_target)\n",
    "    \n",
    "    # Backward and optimize\n",
    "    optimizer2.zero_grad()\n",
    "    loss.backward()\n",
    "    optimizer2.step()\n",
    "    \n",
    "    # Print training progress\n",
    "    if (epoch+1) % 100 == 0:\n",
    "        print(f'Epoch [{epoch+1}/{num_epochs}], Loss: {loss.item():.4f}')\n",
    "\n",
    "# Third model\n",
    "print(\"\\n3rd model:\")\n",
    "for epoch in range(num_epochs):\n",
    "    # Forward pass\n",
    "    outputs_pred = model3(data_in)\n",
    "    loss = criterion(outputs_pred, data_target)\n",
    "    \n",
    "    # Backward and optimize\n",
    "    optimizer3.zero_grad()\n",
    "    loss.backward()\n",
    "    optimizer3.step()\n",
    "    \n",
    "    # Print training progress\n",
    "    if (epoch+1) % 100 == 0:\n",
    "        print(f'Epoch [{epoch+1}/{num_epochs}], Loss: {loss.item():.4f}')"
   ]
  },
  {
   "cell_type": "code",
   "execution_count": 39,
   "id": "dff3ec1a",
   "metadata": {},
   "outputs": [
    {
     "name": "stdout",
     "output_type": "stream",
     "text": [
      "1st model training accuracy: 0.6250\n",
      "2nd model training accuracy: 0.3750\n",
      "3rd model training accuracy: 0.3750\n"
     ]
    }
   ],
   "source": [
    "# First model\n",
    "with torch.no_grad():\n",
    "    outputs = model1(data_in)\n",
    "    predicted = (outputs >= 0.5).float()\n",
    "    accuracy = (predicted == data_target).float().mean()\n",
    "    print(f'1st model training accuracy: {accuracy.item():.4f}')\n",
    "    \n",
    "# Second model\n",
    "with torch.no_grad():\n",
    "    outputs = model2(data_in)\n",
    "    predicted = (outputs >= 0.5).float()\n",
    "    accuracy = (predicted == data_target).float().mean()\n",
    "    print(f'2nd model training accuracy: {accuracy.item():.4f}')\n",
    "    \n",
    "# Third model\n",
    "with torch.no_grad():\n",
    "    outputs = model3(data_in)\n",
    "    predicted = (outputs >= 0.5).float()\n",
    "    accuracy = (predicted == data_target).float().mean()\n",
    "    print(f'3rd model training accuracy: {accuracy.item():.4f}')"
   ]
  },
  {
   "cell_type": "code",
   "execution_count": 40,
   "id": "c1a7518b",
   "metadata": {},
   "outputs": [
    {
     "name": "stdout",
     "output_type": "stream",
     "text": [
      "1st model:\n",
      "hidden.weight tensor([[-0.0950,  0.4041],\n",
      "        [-0.6711, -0.0085],\n",
      "        [ 0.6338, -0.0202],\n",
      "        [ 0.1773, -0.2518]])\n",
      "hidden.bias tensor([ 0.5228, -0.3737, -0.5909, -0.6398])\n",
      "output.weight tensor([[ 0.1118, -0.3584,  0.2022, -0.4621],\n",
      "        [ 0.0978, -0.0899,  0.0585,  0.1262]])\n",
      "output.bias tensor([-0.4644,  0.1436])\n",
      "\n",
      "2nd model:\n",
      "hidden.weight tensor([[-0.2369,  0.6367],\n",
      "        [-0.5330,  0.1458],\n",
      "        [ 0.1983,  0.0242],\n",
      "        [-0.4084, -0.3853],\n",
      "        [ 0.6552,  0.1507],\n",
      "        [ 0.0325, -0.0391],\n",
      "        [ 0.0581, -0.2285],\n",
      "        [ 0.6694, -0.5903]])\n",
      "hidden.bias tensor([-0.2432, -0.2175,  0.2898,  0.4487,  0.5611,  0.3189, -0.2142, -0.1799])\n",
      "output.weight tensor([[-0.0749,  0.1621,  0.3072,  0.1888, -0.3385,  0.0808, -0.3292,  0.1480],\n",
      "        [ 0.3321,  0.0638, -0.1330,  0.2946, -0.1936,  0.2995, -0.1367, -0.2786]])\n",
      "output.bias tensor([-0.2059, -0.0464])\n",
      "\n",
      "3rd model:\n",
      "fct1.weight tensor([[ 0.1511,  0.6703],\n",
      "        [-0.1623, -0.3990],\n",
      "        [-0.5423,  0.3301],\n",
      "        [-0.4373, -0.6131],\n",
      "        [ 0.5300, -0.2267],\n",
      "        [ 0.3360,  0.7004],\n",
      "        [-0.3160,  0.6523],\n",
      "        [ 0.5554, -0.3134],\n",
      "        [ 0.3907,  0.4816],\n",
      "        [-0.2745,  0.6223],\n",
      "        [ 0.3354,  0.2215],\n",
      "        [-0.0842,  0.6244],\n",
      "        [ 0.1697, -0.7008],\n",
      "        [-0.5682,  0.2606],\n",
      "        [-0.4818, -0.0571],\n",
      "        [ 0.6795,  0.2667]])\n",
      "fct1.bias tensor([-0.0983, -0.3073,  0.6761, -0.1829,  0.1473,  0.3851, -0.1098, -0.4565,\n",
      "         0.3018,  0.4758, -0.2409,  0.0833, -0.3688,  0.4832,  0.6327, -0.0905])\n",
      "fct2.weight tensor([[ 0.1001,  0.2280,  0.0627,  0.1712, -0.0115, -0.0117,  0.0576, -0.1913,\n",
      "          0.0276,  0.1914, -0.0293, -0.0639,  0.0277, -0.1424, -0.2133,  0.1221],\n",
      "        [ 0.1489,  0.1624, -0.1983,  0.0173,  0.0768, -0.0959,  0.1332, -0.1976,\n",
      "         -0.1994,  0.0146, -0.2277,  0.1501,  0.0630,  0.2151,  0.1130,  0.1745],\n",
      "        [ 0.0120, -0.1624, -0.0805, -0.1142,  0.0563,  0.1151, -0.0592,  0.1886,\n",
      "         -0.0017,  0.1535, -0.2374, -0.2208,  0.2293, -0.1186, -0.2034, -0.1741],\n",
      "        [-0.1371, -0.0955, -0.0464,  0.0144,  0.0723,  0.0390, -0.0081,  0.0075,\n",
      "          0.1479, -0.2325, -0.0326, -0.1037,  0.2194, -0.0805, -0.1696,  0.0293],\n",
      "        [ 0.0814, -0.2448, -0.0862,  0.2174, -0.0819, -0.0953,  0.0800, -0.0693,\n",
      "         -0.0219,  0.1237,  0.1163, -0.2342,  0.2253, -0.0538,  0.1809,  0.2303],\n",
      "        [ 0.1502, -0.1727,  0.1950, -0.0654,  0.2399,  0.0500,  0.1377, -0.2428,\n",
      "         -0.1225,  0.1054, -0.1634, -0.1736,  0.1015,  0.1759, -0.0605,  0.0525],\n",
      "        [ 0.2325,  0.1936, -0.0200, -0.1352, -0.0331,  0.1013,  0.0428, -0.1821,\n",
      "         -0.0492, -0.0681, -0.2291, -0.0996,  0.2346, -0.2339,  0.1363,  0.1228],\n",
      "        [ 0.1757,  0.0213, -0.1312, -0.1159,  0.0847, -0.1875,  0.0623, -0.1082,\n",
      "         -0.1145,  0.2354, -0.0617,  0.0978, -0.1164,  0.0889,  0.2338, -0.1610]])\n",
      "fct2.bias tensor([-0.0249,  0.0525, -0.0567,  0.2398, -0.1244,  0.1334, -0.0431,  0.1435])\n",
      "fct3.weight tensor([[-0.2555,  0.3430, -0.0954,  0.3313,  0.3059, -0.3462, -0.0317,  0.2001],\n",
      "        [ 0.1831, -0.1917, -0.0089,  0.1015, -0.2176, -0.2154, -0.1174, -0.2991],\n",
      "        [ 0.1230,  0.1236,  0.1696,  0.0220,  0.2248,  0.1082,  0.2341,  0.2170],\n",
      "        [-0.0222,  0.1406, -0.2970, -0.1499, -0.1982,  0.2102, -0.2688, -0.2210]])\n",
      "fct3.bias tensor([ 0.3187, -0.2853,  0.2017, -0.2674])\n",
      "fct4.weight tensor([[ 0.0477, -0.0238, -0.4256,  0.2896],\n",
      "        [-0.3594,  0.1176, -0.3193, -0.2692]])\n",
      "fct4.bias tensor([0.2784, 0.0945])\n"
     ]
    }
   ],
   "source": [
    "# Print model weights\n",
    "\n",
    "# First model\n",
    "print(\"1st model:\")\n",
    "for name, param in model1.named_parameters():\n",
    "    if param.requires_grad:\n",
    "        print(name, param.data)\n",
    "        \n",
    "# First model\n",
    "print(\"\\n2nd model:\")\n",
    "for name, param in model2.named_parameters():\n",
    "    if param.requires_grad:\n",
    "        print(name, param.data)\n",
    "        \n",
    "# First model\n",
    "print(\"\\n3rd model:\")\n",
    "for name, param in model3.named_parameters():\n",
    "    if param.requires_grad:\n",
    "        print(name, param.data)"
   ]
  },
  {
   "cell_type": "code",
   "execution_count": null,
   "id": "4cdf09ba",
   "metadata": {},
   "outputs": [],
   "source": []
  },
  {
   "cell_type": "code",
   "execution_count": null,
   "id": "d0bea66c",
   "metadata": {},
   "outputs": [],
   "source": []
  },
  {
   "cell_type": "code",
   "execution_count": null,
   "id": "e29c65a2",
   "metadata": {},
   "outputs": [],
   "source": []
  }
 ],
 "metadata": {
  "kernelspec": {
   "display_name": "Python 3 (ipykernel)",
   "language": "python",
   "name": "python3"
  },
  "language_info": {
   "codemirror_mode": {
    "name": "ipython",
    "version": 3
   },
   "file_extension": ".py",
   "mimetype": "text/x-python",
   "name": "python",
   "nbconvert_exporter": "python",
   "pygments_lexer": "ipython3",
   "version": "3.11.5"
  }
 },
 "nbformat": 4,
 "nbformat_minor": 5
}
