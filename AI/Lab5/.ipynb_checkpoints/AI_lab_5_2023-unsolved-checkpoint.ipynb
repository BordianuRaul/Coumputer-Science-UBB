{
 "cells": [
  {
   "cell_type": "markdown",
   "id": "b8210b19",
   "metadata": {},
   "source": [
    "## A.I. Assignment 5\n",
    "\n",
    "## Learning Goals\n",
    "\n",
    "By the end of this lab, you should be able to:\n",
    "* Get more familiar with tensors in pytorch \n",
    "* Create a simple multilayer perceptron model with pytorch\n",
    "* Visualise the parameters\n",
    "\n",
    "\n",
    "### Task\n",
    "\n",
    "Build a fully connected feed forward network that adds two bits. Determine the a propper achitecture for this network (what database you use for this problem? how many layers? how many neurons on each layer? what is the activation function? what is the loss function? etc)\n",
    "\n",
    "Create at least 3 such networks and compare their performance (how accurate they are?, how farst they are trained to get at 1 accuracy?)\n",
    "\n",
    "Display for the best one the weights for each layer.\n"
   ]
  },
  {
   "cell_type": "code",
   "execution_count": 10,
   "id": "e3614e5f",
   "metadata": {},
   "outputs": [],
   "source": [
    "import torch\n",
    "import torch.nn as nn\n",
    "import torch.optim as optim\n",
    "from collections import OrderedDict"
   ]
  },
  {
   "cell_type": "code",
   "execution_count": 7,
   "id": "5ee7e7d7",
   "metadata": {
    "scrolled": true
   },
   "outputs": [],
   "source": [
    "# Define models\n",
    "model1 = nn.Sequential(OrderedDict([\n",
    "    ('hidden', nn.Linear(2, 4)),\n",
    "    ('activation', nn.Sigmoid()),\n",
    "    ('output', nn.Linear(4, 1)),\n",
    "    ('sigmoid', nn.Sigmoid())\n",
    "]))\n",
    "model2 = nn.Sequential(OrderedDict([\n",
    "    ('hidden', nn.Linear(2, 8)),\n",
    "    ('activation', nn.ReLU()),\n",
    "    ('output', nn.Linear(8, 1)),\n",
    "    ('softmax', nn.Softmax(dim=1))\n",
    "]))\n",
    "\n",
    "model3 = nn.Sequential(OrderedDict([\n",
    "    ('fct1', nn.Linear(2, 16)),\n",
    "    ('relu1', nn.ReLU()),\n",
    "    ('fct2', nn.Linear(16, 8)),\n",
    "    ('relu2', nn.ReLU()),\n",
    "    ('fct3', nn.Linear(8, 4)),\n",
    "    ('relu3', nn.ReLU()),\n",
    "    ('fct4', nn.Linear(4, 1)),\n",
    "    ('softmax', nn.Softmax(dim=1))\n",
    "]))"
   ]
  },
  {
   "cell_type": "code",
   "execution_count": 8,
   "id": "665ae958",
   "metadata": {},
   "outputs": [
    {
     "name": "stdout",
     "output_type": "stream",
     "text": [
      "Sequential(\n",
      "  (hidden): Linear(in_features=2, out_features=4, bias=True)\n",
      "  (activation): Sigmoid()\n",
      "  (output): Linear(in_features=4, out_features=1, bias=True)\n",
      "  (sigmoid): Sigmoid()\n",
      ")\n",
      "Sequential(\n",
      "  (hidden): Linear(in_features=2, out_features=8, bias=True)\n",
      "  (activation): ReLU()\n",
      "  (output): Linear(in_features=8, out_features=1, bias=True)\n",
      "  (softmax): Softmax(dim=1)\n",
      ")\n",
      "Sequential(\n",
      "  (fct1): Linear(in_features=2, out_features=16, bias=True)\n",
      "  (relu1): ReLU()\n",
      "  (fct2): Linear(in_features=16, out_features=8, bias=True)\n",
      "  (relu2): ReLU()\n",
      "  (fct3): Linear(in_features=8, out_features=4, bias=True)\n",
      "  (relu3): ReLU()\n",
      "  (fct4): Linear(in_features=4, out_features=1, bias=True)\n",
      "  (softmax): Softmax(dim=1)\n",
      ")\n"
     ]
    }
   ],
   "source": [
    "print(model1)\n",
    "print(model2)\n",
    "print(model3)"
   ]
  },
  {
   "cell_type": "code",
   "execution_count": 13,
   "id": "e26f0d3e",
   "metadata": {},
   "outputs": [
    {
     "name": "stdout",
     "output_type": "stream",
     "text": [
      "tensor([[0., 0.],\n",
      "        [0., 1.],\n",
      "        [1., 0.],\n",
      "        [1., 1.]])\n"
     ]
    }
   ],
   "source": [
    "data_in = torch.tensor([[0, 0], [0, 1], [1, 0], [1, 1]], dtype=torch.float32)\n",
    "\n",
    "print(data_in)\n"
   ]
  },
  {
   "cell_type": "code",
   "execution_count": 14,
   "id": "4fb16bbc",
   "metadata": {},
   "outputs": [
    {
     "name": "stdout",
     "output_type": "stream",
     "text": [
      "tensor([[0.],\n",
      "        [1.],\n",
      "        [1.],\n",
      "        [0.]])\n"
     ]
    }
   ],
   "source": [
    "data_target = torch.tensor([[0], [1], [1], [0]], dtype=torch.float32)\n",
    "\n",
    "print(data_target)"
   ]
  },
  {
   "cell_type": "code",
   "execution_count": 15,
   "id": "69d920ed",
   "metadata": {},
   "outputs": [],
   "source": [
    "\n",
    "criterion = nn.BCEWithLogitsLoss()\n",
    "\n",
    "\n",
    "optimizer1 = optim.SGD(model1.parameters(), lr=0.1)\n",
    "optimizer2 = optim.SGD(model2.parameters(), lr=0.1)\n",
    "optimizer3 = optim.SGD(model3.parameters(), lr=0.1)"
   ]
  },
  {
   "cell_type": "code",
   "execution_count": 16,
   "id": "cde91f6f",
   "metadata": {},
   "outputs": [
    {
     "name": "stdout",
     "output_type": "stream",
     "text": [
      "1st model:\n",
      "Epoch [100/1000], Loss: 0.7076\n",
      "Epoch [200/1000], Loss: 0.7021\n",
      "Epoch [300/1000], Loss: 0.6993\n",
      "Epoch [400/1000], Loss: 0.6977\n",
      "Epoch [500/1000], Loss: 0.6967\n",
      "Epoch [600/1000], Loss: 0.6961\n",
      "Epoch [700/1000], Loss: 0.6956\n",
      "Epoch [800/1000], Loss: 0.6952\n",
      "Epoch [900/1000], Loss: 0.6950\n",
      "Epoch [1000/1000], Loss: 0.6948\n",
      "\n",
      "2nd model:\n",
      "Epoch [100/1000], Loss: 0.8133\n",
      "Epoch [200/1000], Loss: 0.8133\n",
      "Epoch [300/1000], Loss: 0.8133\n",
      "Epoch [400/1000], Loss: 0.8133\n",
      "Epoch [500/1000], Loss: 0.8133\n",
      "Epoch [600/1000], Loss: 0.8133\n",
      "Epoch [700/1000], Loss: 0.8133\n",
      "Epoch [800/1000], Loss: 0.8133\n",
      "Epoch [900/1000], Loss: 0.8133\n",
      "Epoch [1000/1000], Loss: 0.8133\n",
      "\n",
      "3rd model:\n",
      "Epoch [100/1000], Loss: 0.8133\n",
      "Epoch [200/1000], Loss: 0.8133\n",
      "Epoch [300/1000], Loss: 0.8133\n",
      "Epoch [400/1000], Loss: 0.8133\n",
      "Epoch [500/1000], Loss: 0.8133\n",
      "Epoch [600/1000], Loss: 0.8133\n",
      "Epoch [700/1000], Loss: 0.8133\n",
      "Epoch [800/1000], Loss: 0.8133\n",
      "Epoch [900/1000], Loss: 0.8133\n",
      "Epoch [1000/1000], Loss: 0.8133\n"
     ]
    }
   ],
   "source": [
    "\n",
    "num_epochs = 1000\n",
    "\n",
    "# First model\n",
    "print(\"1st model:\")\n",
    "for epoch in range(num_epochs):\n",
    "    # Forward pass\n",
    "    outputs_pred = model1(data_in)\n",
    "    loss = criterion(outputs_pred, data_target)\n",
    "    \n",
    "    # Backward and optimize\n",
    "    optimizer1.zero_grad()\n",
    "    loss.backward()\n",
    "    optimizer1.step()\n",
    "    \n",
    "    # Print training progress\n",
    "    if (epoch+1) % 100 == 0:\n",
    "        print(f'Epoch [{epoch+1}/{num_epochs}], Loss: {loss.item():.4f}')\n",
    "\n",
    "# Second model\n",
    "print(\"\\n2nd model:\")\n",
    "for epoch in range(num_epochs):\n",
    "    # Forward pass\n",
    "    outputs_pred = model2(data_in)\n",
    "    loss = criterion(outputs_pred, data_target)\n",
    "    \n",
    "    # Backward and optimize\n",
    "    optimizer2.zero_grad()\n",
    "    loss.backward()\n",
    "    optimizer2.step()\n",
    "    \n",
    "    # Print training progress\n",
    "    if (epoch+1) % 100 == 0:\n",
    "        print(f'Epoch [{epoch+1}/{num_epochs}], Loss: {loss.item():.4f}')\n",
    "\n",
    "# Third model\n",
    "print(\"\\n3rd model:\")\n",
    "for epoch in range(num_epochs):\n",
    "    # Forward pass\n",
    "    outputs_pred = model3(data_in)\n",
    "    loss = criterion(outputs_pred, data_target)\n",
    "    \n",
    "    # Backward and optimize\n",
    "    optimizer3.zero_grad()\n",
    "    loss.backward()\n",
    "    optimizer3.step()\n",
    "    \n",
    "    # Print training progress\n",
    "    if (epoch+1) % 100 == 0:\n",
    "        print(f'Epoch [{epoch+1}/{num_epochs}], Loss: {loss.item():.4f}')"
   ]
  },
  {
   "cell_type": "code",
   "execution_count": 17,
   "id": "dff3ec1a",
   "metadata": {},
   "outputs": [
    {
     "name": "stdout",
     "output_type": "stream",
     "text": [
      "1st model training accuracy: 0.5000\n",
      "2nd model training accuracy: 0.5000\n",
      "3rd model training accuracy: 0.5000\n"
     ]
    }
   ],
   "source": [
    "# First model\n",
    "with torch.no_grad():\n",
    "    outputs = model1(data_in)\n",
    "    predicted = (outputs >= 0.5).float()\n",
    "    accuracy = (predicted == data_target).float().mean()\n",
    "    print(f'1st model training accuracy: {accuracy.item():.4f}')\n",
    "    \n",
    "# Second model\n",
    "with torch.no_grad():\n",
    "    outputs = model2(data_in)\n",
    "    predicted = (outputs >= 0.5).float()\n",
    "    accuracy = (predicted == data_target).float().mean()\n",
    "    print(f'2nd model training accuracy: {accuracy.item():.4f}')\n",
    "    \n",
    "# Third model\n",
    "with torch.no_grad():\n",
    "    outputs = model3(data_in)\n",
    "    predicted = (outputs >= 0.5).float()\n",
    "    accuracy = (predicted == data_target).float().mean()\n",
    "    print(f'3rd model training accuracy: {accuracy.item():.4f}')"
   ]
  },
  {
   "cell_type": "code",
   "execution_count": 18,
   "id": "c1a7518b",
   "metadata": {},
   "outputs": [
    {
     "name": "stdout",
     "output_type": "stream",
     "text": [
      "1st model:\n",
      "hidden.weight tensor([[-0.5543,  0.6637],\n",
      "        [ 0.2129, -0.1867],\n",
      "        [-0.0450, -0.0602],\n",
      "        [-0.1214, -0.6376]])\n",
      "hidden.bias tensor([ 0.2298, -0.2719,  0.8179,  0.2175])\n",
      "output.weight tensor([[-0.1400, -0.0077, -0.9482, -0.1003]])\n",
      "output.bias tensor([-1.2755])\n",
      "\n",
      "2nd model:\n",
      "hidden.weight tensor([[ 0.3243, -0.6692],\n",
      "        [ 0.4754, -0.0678],\n",
      "        [-0.0862,  0.1808],\n",
      "        [-0.2874,  0.3014],\n",
      "        [-0.2975,  0.4795],\n",
      "        [ 0.6001,  0.5767],\n",
      "        [-0.0693, -0.6682],\n",
      "        [-0.1651,  0.3794]])\n",
      "hidden.bias tensor([ 0.3988,  0.0979,  0.2815, -0.5348,  0.1499, -0.3244, -0.3676,  0.1619])\n",
      "output.weight tensor([[ 0.0115, -0.2533, -0.0775, -0.1285,  0.0960, -0.1022, -0.1455,  0.1720]])\n",
      "output.bias tensor([0.1497])\n",
      "\n",
      "3rd model:\n",
      "fct1.weight tensor([[-0.4094,  0.1664],\n",
      "        [-0.0761, -0.2856],\n",
      "        [-0.6958, -0.4387],\n",
      "        [-0.5286,  0.6065],\n",
      "        [ 0.6739, -0.2893],\n",
      "        [ 0.1098,  0.1425],\n",
      "        [-0.0712, -0.1874],\n",
      "        [-0.2775,  0.4816],\n",
      "        [ 0.6118,  0.6975],\n",
      "        [-0.5445,  0.1470],\n",
      "        [-0.5073,  0.1264],\n",
      "        [-0.0467, -0.2741],\n",
      "        [-0.1774,  0.2333],\n",
      "        [ 0.3032, -0.4991],\n",
      "        [-0.4362,  0.4192],\n",
      "        [ 0.6613,  0.3887]])\n",
      "fct1.bias tensor([ 0.4197,  0.6275,  0.1697, -0.2921,  0.3181, -0.2186,  0.5827,  0.3683,\n",
      "         0.2179, -0.6146,  0.2590, -0.2874, -0.4517,  0.1513,  0.5272,  0.1746])\n",
      "fct2.weight tensor([[-0.1552,  0.1606,  0.1084,  0.0574,  0.1357,  0.0356, -0.1120, -0.0955,\n",
      "          0.1418,  0.0795,  0.1312, -0.1525,  0.0768,  0.0953,  0.1991,  0.0005],\n",
      "        [-0.1268,  0.2460, -0.1429,  0.0408,  0.1005, -0.0734, -0.2066, -0.2429,\n",
      "         -0.1462,  0.1118, -0.1426, -0.1267, -0.1535, -0.0337, -0.1830, -0.1232],\n",
      "        [ 0.2439, -0.0005, -0.1794,  0.1868, -0.1520, -0.2213, -0.2489, -0.0791,\n",
      "         -0.0584, -0.1121,  0.0814,  0.2324,  0.0943, -0.1272,  0.2394,  0.1798],\n",
      "        [ 0.1206,  0.2265,  0.0961, -0.0852, -0.0826,  0.1632, -0.1419,  0.1738,\n",
      "          0.0916,  0.0616,  0.1901, -0.2129,  0.0322, -0.0765,  0.2365, -0.2025],\n",
      "        [ 0.0630,  0.0922, -0.0919,  0.0204, -0.2386, -0.1315,  0.1649, -0.1258,\n",
      "          0.0112,  0.1191, -0.2217, -0.0602,  0.0260,  0.1543,  0.2262, -0.0895],\n",
      "        [ 0.0004,  0.0970, -0.1828, -0.1227, -0.0176, -0.0012,  0.2072, -0.0778,\n",
      "         -0.1546,  0.1275, -0.0665, -0.1196,  0.0621, -0.0617,  0.1219,  0.1443],\n",
      "        [ 0.1609, -0.2029,  0.1397,  0.1937, -0.1898,  0.1645, -0.0037,  0.1947,\n",
      "          0.0592,  0.1161,  0.1366, -0.1233,  0.0487,  0.1849, -0.0409, -0.0028],\n",
      "        [ 0.1597,  0.0730, -0.0280, -0.1448, -0.1488, -0.0898, -0.2266, -0.1564,\n",
      "         -0.0609,  0.1966,  0.2272,  0.2427, -0.0121, -0.1626, -0.2270,  0.1090]])\n",
      "fct2.bias tensor([ 0.2486, -0.0082, -0.0038, -0.2344, -0.1740, -0.2313,  0.1201, -0.1051])\n",
      "fct3.weight tensor([[-0.1693,  0.3470, -0.1502, -0.0500,  0.2907, -0.0444, -0.0625, -0.1874],\n",
      "        [ 0.2596, -0.0596,  0.0058, -0.1815, -0.2115,  0.0103,  0.1638,  0.1735],\n",
      "        [ 0.0680,  0.1258, -0.1526,  0.0181,  0.0076,  0.0016,  0.0932, -0.1721],\n",
      "        [-0.1501,  0.0288,  0.1694, -0.3208,  0.0254, -0.3454, -0.0333,  0.3069]])\n",
      "fct3.bias tensor([-0.1735,  0.2393,  0.1563, -0.1004])\n",
      "fct4.weight tensor([[-0.4462, -0.1068,  0.4209, -0.3239]])\n",
      "fct4.bias tensor([0.2121])\n"
     ]
    }
   ],
   "source": [
    "# Print model weights\n",
    "\n",
    "# First model\n",
    "print(\"1st model:\")\n",
    "for name, param in model1.named_parameters():\n",
    "    if param.requires_grad:\n",
    "        print(name, param.data)\n",
    "        \n",
    "# First model\n",
    "print(\"\\n2nd model:\")\n",
    "for name, param in model2.named_parameters():\n",
    "    if param.requires_grad:\n",
    "        print(name, param.data)\n",
    "        \n",
    "# First model\n",
    "print(\"\\n3rd model:\")\n",
    "for name, param in model3.named_parameters():\n",
    "    if param.requires_grad:\n",
    "        print(name, param.data)"
   ]
  },
  {
   "cell_type": "code",
   "execution_count": null,
   "id": "4cdf09ba",
   "metadata": {},
   "outputs": [],
   "source": []
  },
  {
   "cell_type": "code",
   "execution_count": null,
   "id": "d0bea66c",
   "metadata": {},
   "outputs": [],
   "source": []
  },
  {
   "cell_type": "code",
   "execution_count": null,
   "id": "e29c65a2",
   "metadata": {},
   "outputs": [],
   "source": []
  }
 ],
 "metadata": {
  "kernelspec": {
   "display_name": "Python 3 (ipykernel)",
   "language": "python",
   "name": "python3"
  },
  "language_info": {
   "codemirror_mode": {
    "name": "ipython",
    "version": 3
   },
   "file_extension": ".py",
   "mimetype": "text/x-python",
   "name": "python",
   "nbconvert_exporter": "python",
   "pygments_lexer": "ipython3",
   "version": "3.11.5"
  }
 },
 "nbformat": 4,
 "nbformat_minor": 5
}
