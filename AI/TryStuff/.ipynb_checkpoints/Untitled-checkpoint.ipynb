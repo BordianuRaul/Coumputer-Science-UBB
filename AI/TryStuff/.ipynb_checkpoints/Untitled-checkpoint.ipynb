{
 "cells": [
  {
   "cell_type": "code",
   "execution_count": 5,
   "id": "7adc56e9-451e-42ec-9428-66bba21793bd",
   "metadata": {
    "tags": []
   },
   "outputs": [
    {
     "name": "stdout",
     "output_type": "stream",
     "text": [
      "[2, 5, 18, 19]\n",
      "[1, 3, 4, 6, 7, 8, 9, 10, 11, 12, 13, 14, 15, 16, 17]\n"
     ]
    }
   ],
   "source": [
    "import numpy as np\n",
    "import csv\n",
    "from sklearn import preprocessing\n",
    "\n",
    "with open('WA_Fn-UseC_-Telco-Customer-Churn.csv', 'r') as f:\n",
    "    reader = csv.reader(f)\n",
    "    data = list(reader)\n",
    "    \n",
    "data_array = np.array(data)\n",
    "\n",
    "data_array\n",
    "\n",
    "headers = data_array[0]\n",
    "data_values = data_array[1:]\n",
    "\n",
    "numerical_indices = []\n",
    "categorical_indices = []\n",
    "\n",
    "for i, header in enumerate(headers):\n",
    "    \n",
    "    if header not in ['customerID', 'Churn']:\n",
    "        \n",
    "        try:\n",
    "            \n",
    "            _ = data_values[0][i].astype(float)\n",
    "            numerical_indices.append(i)\n",
    "        except ValueError:\n",
    "            \n",
    "            categorical_indices.append(i)\n",
    "            \n",
    "print(numerical_indices);\n",
    "print(categorical_indices);\n"
   ]
  },
  {
   "cell_type": "code",
   "execution_count": 3,
   "id": "a57ba73c-2856-4ad0-8cfe-ff467d9825aa",
   "metadata": {},
   "outputs": [
    {
     "ename": "NameError",
     "evalue": "name 'headers' is not defined",
     "output_type": "error",
     "traceback": [
      "\u001b[1;31m---------------------------------------------------------------------------\u001b[0m",
      "\u001b[1;31mNameError\u001b[0m                                 Traceback (most recent call last)",
      "Cell \u001b[1;32mIn[3], line 1\u001b[0m\n\u001b[1;32m----> 1\u001b[0m \u001b[38;5;28;01mfor\u001b[39;00m i, header \u001b[38;5;129;01min\u001b[39;00m \u001b[38;5;28menumerate\u001b[39m(headers):\n\u001b[0;32m      2\u001b[0m     \u001b[38;5;66;03m# Skip columns 'customerID' and 'Churn' as they are not numerical nor categorical\u001b[39;00m\n\u001b[0;32m      3\u001b[0m     \u001b[38;5;28;01mif\u001b[39;00m header \u001b[38;5;129;01mnot\u001b[39;00m \u001b[38;5;129;01min\u001b[39;00m [\u001b[38;5;124m'\u001b[39m\u001b[38;5;124mcustomerID\u001b[39m\u001b[38;5;124m'\u001b[39m, \u001b[38;5;124m'\u001b[39m\u001b[38;5;124mChurn\u001b[39m\u001b[38;5;124m'\u001b[39m]:\n\u001b[0;32m      4\u001b[0m         \u001b[38;5;66;03m# Try converting the values in the column to float\u001b[39;00m\n\u001b[0;32m      5\u001b[0m         \u001b[38;5;28;01mtry\u001b[39;00m:\n\u001b[0;32m      6\u001b[0m             \u001b[38;5;66;03m# If conversion is successful, it's numerical\u001b[39;00m\n",
      "\u001b[1;31mNameError\u001b[0m: name 'headers' is not defined"
     ]
    }
   ],
   "source": []
  },
  {
   "cell_type": "code",
   "execution_count": null,
   "id": "64898e5a-7bea-4364-830f-fd96a8ea87fa",
   "metadata": {},
   "outputs": [],
   "source": []
  }
 ],
 "metadata": {
  "kernelspec": {
   "display_name": "Python 3 (ipykernel)",
   "language": "python",
   "name": "python3"
  },
  "language_info": {
   "codemirror_mode": {
    "name": "ipython",
    "version": 3
   },
   "file_extension": ".py",
   "mimetype": "text/x-python",
   "name": "python",
   "nbconvert_exporter": "python",
   "pygments_lexer": "ipython3",
   "version": "3.11.5"
  }
 },
 "nbformat": 4,
 "nbformat_minor": 5
}
